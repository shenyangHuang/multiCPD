{
 "cells": [
  {
   "cell_type": "markdown",
   "metadata": {},
   "source": [
    "# MultiCPD NYC TLC 2020 Notebook"
   ]
  },
  {
   "cell_type": "markdown",
   "metadata": {},
   "source": [
    "### Import block"
   ]
  },
  {
   "cell_type": "code",
   "execution_count": null,
   "metadata": {},
   "outputs": [],
   "source": [
    "# standard library dependencies\n",
    "import warnings\n",
    "import datetime\n",
    "from pprint import pprint\n",
    "from typing import List, Callable, Tuple\n",
    "\n",
    "# external dependencies\n",
    "import numpy as np\n",
    "import pandas as pd\n",
    "import seaborn as sns\n",
    "import networkx as nx\n",
    "import matplotlib.pyplot as plt \n",
    "import matplotlib.dates as mdates\n",
    "\n",
    "# local dependencies\n",
    "from datasets.TLC_loader import load_TLC\n",
    "from sc_multiCPD import multiCPD, plot_scores_and_spectra, PCA_context_matrix\n",
    "from multiCPD_multiview_aggregators import (\n",
    "    sum_,\n",
    "    mean_,\n",
    "    max_,\n",
    "    min_,\n",
    "    median_,\n",
    "    scalar_power_mean\n",
    ")\n",
    "\n",
    "%load_ext autoreload\n",
    "%autoreload 2"
   ]
  },
  {
   "cell_type": "markdown",
   "metadata": {
    "heading_collapsed": true
   },
   "source": [
    "### Convenience function definition"
   ]
  },
  {
   "cell_type": "code",
   "execution_count": null,
   "metadata": {
    "hidden": true
   },
   "outputs": [],
   "source": [
    "def visualize(context_matrix: np.ndarray, \n",
    "              z_scores: np.ndarray, \n",
    "              z_overall: np.ndarray, \n",
    "              line_labels: List[str],\n",
    "              x_axis_labels: List[str],\n",
    "              anomalous_timepoints: List[int],\n",
    "              suptitle: str = None,\n",
    "              line_colours: List[str] = None,\n",
    "              pca_analysis: bool = False,\n",
    "              plot_maxline: bool = False,\n",
    "              figsize: Tuple[int,int] = None,\n",
    "              show: bool = False):\n",
    "    \n",
    "    plt.rcParams['pdf.fonttype'] = 42\n",
    "    plt.rcParams['ps.fonttype'] = 42\n",
    "    plt.rcParams['font.family'] = 'serif'\n",
    "    plt.rcParams['axes.xmargin'] = 0\n",
    "    plt.rcParams.update({'figure.autolayout': True})\n",
    "    plt.rc('xtick')\n",
    "    plt.rc('ytick')\n",
    "    \n",
    "    if line_colours is None:\n",
    "        line_colours = ['red', 'blue', 'green', 'yellow', 'purple', 'black']\n",
    "    \n",
    "    if plot_maxline:\n",
    "        lines_array = np.clip(\n",
    "            np.vstack((z_scores, z_overall)),\n",
    "            a_min=0.0, \n",
    "            a_max=None\n",
    "        )\n",
    "    else:\n",
    "        lines_array = np.clip(\n",
    "            z_scores,\n",
    "            a_min=0.0, \n",
    "            a_max=None\n",
    "        )\n",
    "    \n",
    "    LAD_fig, no_spectra_LAD_fig = plot_scores_and_spectra(\n",
    "        context_matrix, \n",
    "        lines_array,\n",
    "        labels = line_labels,\n",
    "        x_axis_labels = x_axis_labels,\n",
    "        colors = line_colours,\n",
    "        anomalous_timepoints = anomalous_timepoints,\n",
    "        title = suptitle,\n",
    "        figsize=figsize\n",
    "    )\n",
    "    \n",
    "    if pca_analysis:\n",
    "        transformed_context_matrix, PCA_fig = PCA_context_matrix(\n",
    "            context_matrix, \n",
    "            verbose=True, \n",
    "            plot=True, \n",
    "            point_labels=x_axis_labels\n",
    "        )\n",
    "        return LAD_fig, no_spectra_LAD_fig, transformed_context_matrix, PCA_fig\n",
    "    return LAD_fig, no_spectra_LAD_fig, None, None\n",
    "\n",
    "def visualize_max(zs: List[np.ndarray],\n",
    "                  dates:List,\n",
    "                  num_timepoints:int=121):\n",
    "    \n",
    "    plt.rcParams['pdf.fonttype'] = 42\n",
    "    plt.rcParams['ps.fonttype'] = 42\n",
    "    plt.rcParams['font.family'] = 'serif'\n",
    "    plt.rcParams['axes.xmargin'] = 0\n",
    "    plt.rcParams.update({'figure.autolayout': True})\n",
    "    plt.rc('xtick')\n",
    "    plt.rc('ytick')\n",
    "    \n",
    "    fig, ax = plt.subplots(nrows=5, ncols=1, figsize=(10,4), sharex=True, sharey=True)\n",
    "    xs = np.arange(num_timepoints)\n",
    "    x_ticks = [ x for x in xs if x%7 == 0 ]\n",
    "    x_labels = [ d.strftime(\"%m-%d\") for d, t in zip(dates, xs) if t % 7 == 0 ]\n",
    "    for i in range(len(zs)):\n",
    "        ax[i].plot(\n",
    "            xs,\n",
    "            np.clip(zs[i], a_min=0.0, a_max=None),\n",
    "            'k-'\n",
    "        )\n",
    "    plt.xticks(x_ticks, x_labels)\n",
    "    fig.autofmt_xdate()\n",
    "    plt.xlabel(\"date\")\n",
    "    fig.text(0.0, 0.5, 'anomaly score', va='center', rotation='vertical')\n",
    "    return fig"
   ]
  },
  {
   "cell_type": "markdown",
   "metadata": {},
   "source": [
    "### Parameter block"
   ]
  },
  {
   "cell_type": "code",
   "execution_count": null,
   "metadata": {},
   "outputs": [],
   "source": [
    "window_sizes = [3,7]\n",
    "windows_suffix = \",\".join(list(map(str, window_sizes)))\n",
    "percent_ranked = 0.06\n",
    "normalized_laplacian = True\n",
    "# add the path to the directory containing \n",
    "# green_tripdata_2020.edgelist.txt,\n",
    "# yellow_tripdata_2020.edgelist.txt,\n",
    "# fhv_tripdata_2020.edgelist.txt, and\n",
    "# fhvhv_tripdata_2020.edgelist.txt\n",
    "# here\n",
    "TLC_data_dir_path = \"\""
   ]
  },
  {
   "cell_type": "markdown",
   "metadata": {},
   "source": [
    "### Load the NYC TLC 2020 dataset\n",
    "The data in `viewwise_G_times` is a list of list of networkx.Graph objects.\n",
    "Each sublist corresponds to a view (e.g. the green taxi view, or the yellow taxi view), and each graph in the sublist represents a day in the timecourse."
   ]
  },
  {
   "cell_type": "code",
   "execution_count": null,
   "metadata": {},
   "outputs": [],
   "source": [
    "num_timepoints = 121\n",
    "viewwise_G_times = load_TLC(\n",
    "    4, \n",
    "    day_range=list(range(num_timepoints)),\n",
    "    TLC_data_dir_path=TLC_data_dir_path\n",
    ")\n",
    "dates = [datetime.date(month=1, year=2020, day=1) + datetime.timedelta(days=x) for x in range(121)]"
   ]
  },
  {
   "cell_type": "markdown",
   "metadata": {},
   "source": [
    "## MultiCPD Experiments"
   ]
  },
  {
   "cell_type": "markdown",
   "metadata": {},
   "source": [
    "### Running MultiCPD on all 4 views using the scalar power mean"
   ]
  },
  {
   "cell_type": "code",
   "execution_count": null,
   "metadata": {},
   "outputs": [],
   "source": [
    "context_matrix, z_overall, z_scores, anomalies = multiCPD(\n",
    "    viewwise_G_times, \n",
    "    window_sizes,\n",
    "    num_eigen = 499,\n",
    "    p = -10,\n",
    "    max_size = None,\n",
    "    add_diagonal_shift = True,\n",
    "    top = True,\n",
    "    principal = True,\n",
    "    difference = True,\n",
    "    percent_ranked = percent_ranked,\n",
    "    normalized_laplacian = True,\n",
    "    weight = 'weight',\n",
    "    multiview_agg_fn = scalar_power_mean,\n",
    "    context_matrix_norm = 'l2'\n",
    ")\n",
    "scalar_power_mean_z_overall = z_overall[:]\n",
    "print([dates[i].strftime(\"%m-%d\") for i in anomalies])"
   ]
  },
  {
   "cell_type": "code",
   "execution_count": null,
   "metadata": {},
   "outputs": [],
   "source": [
    "LAD_fig, no_spectra_LAD_fig, transformed_context_matrix, PCA_fig = visualize(\n",
    "    context_matrix, \n",
    "    z_overall.reshape((1,-1)), \n",
    "    z_overall.reshape((1,-1)), \n",
    "    [''],#list(map(str, window_sizes)),\n",
    "    [d.strftime(\"%m-%d\") for d in dates],\n",
    "    anomalies,\n",
    "    suptitle = \"\",\n",
    "    line_colours = None, \n",
    "    pca_analysis = True,\n",
    "    figsize = (10,8)\n",
    ")\n",
    "topn = len(anomalies)\n",
    "print(anomalies)\n",
    "LAD_fig.savefig(f\"Scalar Power Mean MultiCPD (NYC TLC 2020, top {topn}, spectra, windows={windows_suffix}).pdf\", bbox_inches='tight')\n",
    "\n",
    "# re-plot w/o anomalies labels\n",
    "LAD_fig, no_spectra_LAD_fig, transformed_context_matrix, PCA_fig = visualize(\n",
    "    context_matrix, \n",
    "    z_scores, \n",
    "    z_overall, \n",
    "    list(map(str, window_sizes)),\n",
    "    [d.strftime(\"%m-%d\") for d in dates],\n",
    "    [],\n",
    "    suptitle = \"\",\n",
    "    line_colours = None, \n",
    "    pca_analysis = True\n",
    ")\n"
   ]
  },
  {
   "cell_type": "markdown",
   "metadata": {},
   "source": [
    "%matplotlib inline\n",
    "weekday_overall_z_scores_distribution = []\n",
    "for offset in range(7):\n",
    "    weekday_overall_z_scores_distribution.append(\n",
    "        np.clip(\n",
    "            z_overall[offset::7],\n",
    "            a_min=0.0,\n",
    "            a_max=None\n",
    "        ).tolist()\n",
    "    )\n",
    "\n",
    "\n",
    "#df.columns = [\"Wed.\", \"Thu.\", \"Fri.\", \"Sat.\", \"Sun.\", \"Mon.\", \"Tue.\"]\n",
    "fig, ax = plt.subplots(figsize=(9,5))\n",
    "sns.set(font_scale = 2)\n",
    "sns.boxplot(ax=ax, data=weekday_overall_z_scores_distribution)\n",
    "sns.swarmplot(ax=ax, data=weekday_overall_z_scores_distribution, color=\".25\")\n",
    "plt.xticks(list(range(0,7)), [\"Wed.\", \"Thu.\", \"Fri.\", \"Sat.\", \"Sun.\", \"Mon.\", \"Tue.\"])\n",
    "plt.ylabel(\"anomaly score\")\n",
    "plt.suptitle(\"Scalar Power Mean MultiCPD (NYC TLC 2020)\\nDaily Max. Score Distributions\")\n",
    "plt.show()\n",
    "plt.savefig(\"Scalar Power Mean MultiCPD (NYC TLC 2020) Daily Max. Score Distributions (windows={windows_suffix}).pdf\")"
   ]
  },
  {
   "cell_type": "markdown",
   "metadata": {},
   "source": [
    "### Running MultiCPD on all 4 views using the mean and max aggregation baselines"
   ]
  },
  {
   "cell_type": "code",
   "execution_count": null,
   "metadata": {},
   "outputs": [],
   "source": [
    "viewwise_z_overall = []\n",
    "for i in range(4):\n",
    "    context_matrix, z_overall, z_scores, anomalies = multiCPD(\n",
    "        [viewwise_G_times[i]], \n",
    "        window_sizes,\n",
    "        num_eigen = 499,\n",
    "        p = -10,\n",
    "        max_size = None,\n",
    "        add_diagonal_shift = True,\n",
    "        top = True,\n",
    "        principal = True,\n",
    "        difference = True,\n",
    "        percent_ranked = percent_ranked,\n",
    "        normalized_laplacian = normalized_laplacian,\n",
    "        weight = 'weight',\n",
    "        context_matrix_norm = 'l2'\n",
    "    )\n",
    "    viewwise_z_overall.append(z_overall)\n",
    "\n",
    "viewwise_z_overall = np.array(viewwise_z_overall)\n",
    "assert viewwise_z_overall.ndim == 2\n",
    "print(viewwise_z_overall.shape)\n",
    "\n",
    "mean_z_overall = viewwise_z_overall.mean(axis=0)\n",
    "mean_anomalies = mean_z_overall.argsort()[-round(num_timepoints * percent_ranked):][::-1]\n",
    "mean_anomalies.sort()\n",
    "\n",
    "max_z_overall = viewwise_z_overall.max(axis=0)\n",
    "max_anomalies = max_z_overall.argsort()[-round(num_timepoints * percent_ranked):][::-1]\n",
    "max_anomalies.sort()\n",
    "\n",
    "print([dates[i].strftime(\"%m-%d\") for i in mean_anomalies])\n",
    "print([dates[i].strftime(\"%m-%d\") for i in max_anomalies])"
   ]
  },
  {
   "cell_type": "code",
   "execution_count": null,
   "metadata": {},
   "outputs": [],
   "source": [
    "scalar_power_mean_z_overall.max(), mean_z_overall.max(), max_z_overall.max()\n",
    "max_norm_scalar_power_mean_z_overall = scalar_power_mean_z_overall / scalar_power_mean_z_overall.max()\n",
    "max_norm_mean_z_overall = mean_z_overall / mean_z_overall.max()\n",
    "max_norm_max_z_overall = max_z_overall / max_z_overall.max()\n",
    "\n",
    "LAD_fig, no_spectra_LAD_fig, transformed_context_matrix, PCA_fig = visualize(\n",
    "    context_matrix, # dummy\n",
    "    np.vstack((\n",
    "        max_norm_mean_z_overall,\n",
    "        max_norm_max_z_overall,\n",
    "        max_norm_scalar_power_mean_z_overall\n",
    "    )),\n",
    "    max_norm_scalar_power_mean_z_overall,\n",
    "    [\"NL meanLAD Baseline\", \"NL maxLAD Baseline\", \"Scalar Power Mean\"],\n",
    "    [d.strftime(\"%m-%d\") for d in dates],\n",
    "    np.zeros((0,0)),\n",
    "    #suptitle = \"Scalar Power Mean multiCPD versus NL mean/maxLAD Baselines (NYC TLC 2020)\",\n",
    "    line_colours = None, \n",
    "    pca_analysis = False\n",
    ")\n",
    "LAD_fig.axes[0].set_yticklabels(np.round(np.arange(-0.2, 1.2, 0.2), 2))\n",
    "LAD_fig.axes[0].set(ylabel = \"normalized anomaly score\")\n",
    "LAD_fig.savefig(f\"Scalar Power Mean multiCPD versus NL meanLAD and maxLAD Baselines (NYC TLC 2020, w={windows_suffix}).pdf\", bbox_inches='tight')\n",
    "\n",
    "\n",
    "no_spectra_LAD_fig.axes[0].set_yticklabels(np.round(np.arange(-0.2, 1.2, 0.2), 2))\n",
    "no_spectra_LAD_fig.axes[0].set(ylabel = \"normalized anomaly score\")\n",
    "no_spectra_LAD_fig.savefig(f\"Scalar Power Mean multiCPD versus NL meanLAD and maxLAD Baselines (NYC TLC 2020, no spectra, w={windows_suffix}).pdf\", bbox_inches='tight')"
   ]
  },
  {
   "cell_type": "code",
   "execution_count": null,
   "metadata": {},
   "outputs": [],
   "source": [
    "LAD_fig, no_spectra_LAD_fig, transformed_context_matrix, PCA_fig = visualize(\n",
    "    context_matrix, # dummy\n",
    "    max_z_overall.reshape((1,-1)), \n",
    "    max_z_overall.reshape((1,-1)), \n",
    "    [\"NL maxLAD Baseline\"],\n",
    "    [d.strftime(\"%m-%d\") for d in dates],\n",
    "    max_anomalies,\n",
    "    #suptitle = \"NL maxLAD (NYC TLC 2016) Baseline, top 7\\n\",\n",
    "    line_colours = None, \n",
    "    pca_analysis = True\n",
    ")\n",
    "no_spectra_LAD_fig.savefig(\"NL maxLAD (NYC TLC 2020, top 7, windows=(3,17), no spectra) Baseline.pdf\", bbox_inches='tight')"
   ]
  },
  {
   "cell_type": "code",
   "execution_count": null,
   "metadata": {},
   "outputs": [],
   "source": [
    "LAD_fig, no_spectra_LAD_fig, transformed_context_matrix, PCA_fig = visualize(\n",
    "    context_matrix, # dummy\n",
    "    mean_z_overall.reshape((1,-1)), \n",
    "    mean_z_overall.reshape((1,-1)), \n",
    "    [\"NL meanLAD Baseline\"],\n",
    "    [d.strftime(\"%m-%d\") for d in dates],\n",
    "    max_anomalies,\n",
    "    line_colours = None, \n",
    "    pca_analysis = True\n",
    ")\n",
    "no_spectra_LAD_fig.savefig(\"NL meanLAD (NYC TLC 2020, top 7, windows=(3,17), no spectra) Baseline.pdf\", bbox_inches='tight')"
   ]
  },
  {
   "cell_type": "markdown",
   "metadata": {
    "heading_collapsed": true
   },
   "source": [
    "## Single-view Experiments"
   ]
  },
  {
   "cell_type": "code",
   "execution_count": null,
   "metadata": {
    "hidden": true
   },
   "outputs": [],
   "source": [
    "normalized_laplacian = True"
   ]
  },
  {
   "cell_type": "markdown",
   "metadata": {
    "hidden": true
   },
   "source": [
    "### View 1"
   ]
  },
  {
   "cell_type": "code",
   "execution_count": null,
   "metadata": {
    "hidden": true
   },
   "outputs": [],
   "source": [
    "context_matrix, z_overall, z_scores, anomalies = multiCPD(\n",
    "    [viewwise_G_times[0]], \n",
    "    window_sizes,\n",
    "    num_eigen = 499,\n",
    "    p = -10,\n",
    "    max_size = None,\n",
    "    add_diagonal_shift = True,\n",
    "    top = True,\n",
    "    principal = True,\n",
    "    difference = True,\n",
    "    percent_ranked = percent_ranked,\n",
    "    normalized_laplacian = normalized_laplacian,\n",
    "    weight = 'weight',\n",
    "    context_matrix_norm = 'l2'\n",
    ")\n",
    "view_1_z_overall = z_overall"
   ]
  },
  {
   "cell_type": "code",
   "execution_count": null,
   "metadata": {
    "hidden": true
   },
   "outputs": [],
   "source": [
    "LAD_fig, no_spectra_LAD_fig, transformed_context_matrix, PCA_fig = visualize(\n",
    "    context_matrix, \n",
    "    z_scores, \n",
    "    z_overall, \n",
    "    list(map(str, window_sizes)),\n",
    "    [d.strftime(\"%m-%d\") for d in dates],\n",
    "    anomalies,\n",
    "    #suptitle = \"LAD on View #1 (NYC TLC 2020), top 10%\\n\",\n",
    "    line_colours = None, \n",
    "    pca_analysis = True,\n",
    "    figsize = (10,2)\n",
    ")\n",
    "topn = len(anomalies)\n",
    "no_spectra_LAD_fig.savefig(f\"Resized {'NL ' if normalized_laplacian else ''}LAD on View #1 (NYC TLC 2020, top {topn}, no spectra, windows={windows_suffix}).pdf\", bbox_inches='tight')\n",
    "\n",
    "LAD_fig, no_spectra_LAD_fig, transformed_context_matrix, PCA_fig = visualize(\n",
    "    context_matrix, \n",
    "    z_scores, \n",
    "    z_overall, \n",
    "    list(map(str, window_sizes)),\n",
    "    [d.strftime(\"%m-%d\") for d in dates],\n",
    "    [],\n",
    "    suptitle = \"\",\n",
    "    line_colours = None, \n",
    "    pca_analysis = True\n",
    ")\n"
   ]
  },
  {
   "cell_type": "markdown",
   "metadata": {
    "hidden": true
   },
   "source": [
    "### View 2"
   ]
  },
  {
   "cell_type": "code",
   "execution_count": null,
   "metadata": {
    "hidden": true
   },
   "outputs": [],
   "source": [
    "context_matrix, z_overall, z_scores, anomalies = multiCPD(\n",
    "    [viewwise_G_times[1]], \n",
    "    window_sizes,\n",
    "    num_eigen = 499,\n",
    "    p = -10,\n",
    "    max_size = None,\n",
    "    add_diagonal_shift = True,\n",
    "    top = True,\n",
    "    principal = True,\n",
    "    difference = True,\n",
    "    percent_ranked = percent_ranked,\n",
    "    normalized_laplacian = normalized_laplacian,\n",
    "    weight = 'weight',\n",
    "    context_matrix_norm = 'l2'\n",
    ")\n",
    "view_2_z_overall = z_overall"
   ]
  },
  {
   "cell_type": "code",
   "execution_count": null,
   "metadata": {
    "hidden": true
   },
   "outputs": [],
   "source": [
    "LAD_fig, no_spectra_LAD_fig, transformed_context_matrix, PCA_fig = visualize(\n",
    "    context_matrix, \n",
    "    z_scores, \n",
    "    z_overall, \n",
    "    list(map(str, window_sizes)),\n",
    "    [d.strftime(\"%m-%d\") for d in dates],\n",
    "    anomalies,\n",
    "    #suptitle = \"LAD on View #2 (NYC TLC 2020), top 10%\\n\",\n",
    "    line_colours = None, \n",
    "    pca_analysis = True,\n",
    "    figsize = (10,2)\n",
    ")\n",
    "topn = len(anomalies)\n",
    "no_spectra_LAD_fig.savefig(f\"Resized {'NL ' if normalized_laplacian else ''}LAD on View #2 (NYC TLC 2020, top {topn}, no spectra, windows={windows_suffix}).pdf\", bbox_inches='tight')\n",
    "\n",
    "LAD_fig, no_spectra_LAD_fig, transformed_context_matrix, PCA_fig = visualize(\n",
    "    context_matrix, \n",
    "    z_scores, \n",
    "    z_overall, \n",
    "    list(map(str, window_sizes)),\n",
    "    [d.strftime(\"%m-%d\") for d in dates],\n",
    "    [],\n",
    "    suptitle = \"\",\n",
    "    line_colours = None, \n",
    "    pca_analysis = True\n",
    ")\n"
   ]
  },
  {
   "cell_type": "markdown",
   "metadata": {
    "hidden": true
   },
   "source": [
    "### View 3"
   ]
  },
  {
   "cell_type": "code",
   "execution_count": null,
   "metadata": {
    "hidden": true
   },
   "outputs": [],
   "source": [
    "context_matrix, z_overall, z_scores, anomalies = multiCPD(\n",
    "    [viewwise_G_times[2]], \n",
    "    window_sizes,\n",
    "    num_eigen = 499,\n",
    "    p = -10,\n",
    "    max_size = None,\n",
    "    add_diagonal_shift = True,\n",
    "    top = True,\n",
    "    principal = True,\n",
    "    difference = True,\n",
    "    percent_ranked = percent_ranked,\n",
    "    normalized_laplacian = normalized_laplacian,\n",
    "    weight = 'weight',\n",
    "    context_matrix_norm = 'l2'\n",
    ")\n",
    "view_3_z_overall = z_overall"
   ]
  },
  {
   "cell_type": "code",
   "execution_count": null,
   "metadata": {
    "hidden": true,
    "scrolled": false
   },
   "outputs": [],
   "source": [
    "LAD_fig, no_spectra_LAD_fig, transformed_context_matrix, PCA_fig = visualize(\n",
    "    context_matrix, \n",
    "    z_scores, \n",
    "    z_overall, \n",
    "    list(map(str, window_sizes)),\n",
    "    [d.strftime(\"%m-%d\") for d in dates],\n",
    "    anomalies,\n",
    "    #suptitle = \"LAD on View #3 (NYC TLC 2020), top 10%\\n\",\n",
    "    line_colours = None, \n",
    "    pca_analysis = True,\n",
    "    figsize = (10,2)\n",
    ")\n",
    "topn = len(anomalies)\n",
    "no_spectra_LAD_fig.savefig(f\"Resized {'NL ' if normalized_laplacian else ''}LAD on View #3 (NYC TLC 2020, top {topn}, no spectra, windows={windows_suffix}).pdf\", bbox_inches='tight')\n",
    "\n",
    "# re-plot w/o anomalies labels\n",
    "LAD_fig, no_spectra_LAD_fig, transformed_context_matrix, PCA_fig = visualize(\n",
    "    context_matrix, \n",
    "    z_scores, \n",
    "    z_overall, \n",
    "    list(map(str, window_sizes)),\n",
    "    [d.strftime(\"%m-%d\") for d in dates],\n",
    "    [],\n",
    "    suptitle = \"\",\n",
    "    line_colours = None, \n",
    "    pca_analysis = True\n",
    ")\n"
   ]
  },
  {
   "cell_type": "markdown",
   "metadata": {
    "hidden": true
   },
   "source": [
    "### View 4"
   ]
  },
  {
   "cell_type": "code",
   "execution_count": null,
   "metadata": {
    "hidden": true
   },
   "outputs": [],
   "source": [
    "context_matrix, z_overall, z_scores, anomalies = multiCPD(\n",
    "    [viewwise_G_times[3]], \n",
    "    window_sizes,\n",
    "    num_eigen = 499,\n",
    "    p = -10,\n",
    "    max_size = None,\n",
    "    add_diagonal_shift = True,\n",
    "    top = True,\n",
    "    principal = True,\n",
    "    difference = True,\n",
    "    percent_ranked = percent_ranked,\n",
    "    normalized_laplacian = normalized_laplacian,\n",
    "    weight = 'weight',\n",
    "    context_matrix_norm = 'l2'\n",
    ")\n",
    "view_4_z_overall = z_overall"
   ]
  },
  {
   "cell_type": "code",
   "execution_count": null,
   "metadata": {
    "hidden": true
   },
   "outputs": [],
   "source": [
    "LAD_fig, no_spectra_LAD_fig, transformed_context_matrix, PCA_fig = visualize(\n",
    "    context_matrix, \n",
    "    z_scores, \n",
    "    z_overall, \n",
    "    list(map(str, window_sizes)),\n",
    "    [d.strftime(\"%m-%d\") for d in dates],\n",
    "    anomalies,\n",
    "    #suptitle = \"LAD on View #4 (NYC TLC 2020), top 10%\\n\",\n",
    "    line_colours = None, \n",
    "    pca_analysis = True,\n",
    "    figsize = (10,2)\n",
    ")\n",
    "topn = len(anomalies)\n",
    "no_spectra_LAD_fig.savefig(f\"Resized {'NL ' if normalized_laplacian else ''}LAD on View #4 (NYC TLC 2020, top {topn}, no spectra, windows={windows_suffix}).pdf\", bbox_inches='tight')\n",
    "\n",
    "# re-plot w/o anomalies labels\n",
    "LAD_fig, no_spectra_LAD_fig, transformed_context_matrix, PCA_fig = visualize(\n",
    "    context_matrix, \n",
    "    z_scores, \n",
    "    z_overall, \n",
    "    list(map(str, window_sizes)),\n",
    "    [d.strftime(\"%m-%d\") for d in dates],\n",
    "    [],\n",
    "    suptitle = \"\",\n",
    "    line_colours = None, \n",
    "    pca_analysis = True\n",
    ")\n"
   ]
  },
  {
   "cell_type": "code",
   "execution_count": null,
   "metadata": {
    "hidden": true
   },
   "outputs": [],
   "source": [
    "f = visualize_max(\n",
    "    [\n",
    "        scalar_power_mean_z_overall,\n",
    "        view_1_z_overall,\n",
    "        view_2_z_overall,\n",
    "        view_3_z_overall,\n",
    "        view_4_z_overall\n",
    "    ], \n",
    "    dates\n",
    ")\n",
    "f.savefig(\"NYC TLC 2020 SPM, v1, v2, v3, v4 (windows=3,7).pdf\")"
   ]
  },
  {
   "cell_type": "code",
   "execution_count": null,
   "metadata": {
    "hidden": true
   },
   "outputs": [],
   "source": [
    "f = visualize_max(\n",
    "    [\n",
    "        scalar_power_mean_z_overall/(scalar_power_mean_z_overall.max()),\n",
    "        view_1_z_overall/(view_1_z_overall.max()),\n",
    "        view_2_z_overall/(view_2_z_overall.max()),\n",
    "        view_3_z_overall/(view_3_z_overall.max()),\n",
    "        view_4_z_overall/(view_4_z_overall.max())\n",
    "    ], \n",
    "    dates\n",
    ")\n",
    "f.savefig(\"NYC TLC 2020 SPM, v1, v2, v3, v4 (windows=3,7, normalized).pdf\")"
   ]
  },
  {
   "cell_type": "markdown",
   "metadata": {
    "heading_collapsed": true
   },
   "source": [
    "## Complementary Views Experiments"
   ]
  },
  {
   "cell_type": "code",
   "execution_count": null,
   "metadata": {
    "hidden": true
   },
   "outputs": [],
   "source": [
    "normalized_laplacian = True"
   ]
  },
  {
   "cell_type": "markdown",
   "metadata": {
    "hidden": true
   },
   "source": [
    "### Taxi MultiCPD"
   ]
  },
  {
   "cell_type": "code",
   "execution_count": null,
   "metadata": {
    "hidden": true
   },
   "outputs": [],
   "source": [
    "context_matrix, z_overall, z_scores, anomalies = multiCPD(\n",
    "    viewwise_G_times[0:2], \n",
    "    window_sizes,\n",
    "    num_eigen = 499,\n",
    "    p = -10,\n",
    "    max_size = None,\n",
    "    add_diagonal_shift = True,\n",
    "    top = True,\n",
    "    principal = True,\n",
    "    difference = True,\n",
    "    percent_ranked = percent_ranked,\n",
    "    normalized_laplacian = normalized_laplacian,\n",
    "    weight = 'weight',\n",
    "    context_matrix_norm = 'l2',\n",
    "    multiview_agg_fn = scalar_power_mean\n",
    ")\n",
    "taxi_z_overall = z_overall"
   ]
  },
  {
   "cell_type": "code",
   "execution_count": null,
   "metadata": {
    "hidden": true
   },
   "outputs": [],
   "source": [
    "ntop = len(anomalies)\n",
    "LAD_fig, no_spectra_LAD_fig, transformed_context_matrix, PCA_fig = visualize(\n",
    "    context_matrix, \n",
    "    z_scores, \n",
    "    z_overall, \n",
    "    list(map(str, window_sizes)),\n",
    "    [d.strftime(\"%m-%d\") for d in dates],\n",
    "    anomalies,\n",
    "    suptitle = \"\", #f\"    Taxi MultiCPD (NYC TLC 2020), top 5%\\n\",\n",
    "    line_colours = None, \n",
    "    pca_analysis = False\n",
    ")\n",
    "LAD_fig.savefig(f\"Scalar Power Mean MultiCPD Taxi Views (NYC TLC 2020, top {topn}, spectra, windows={windows_suffix}).pdf\", bbox_inches='tight')\n",
    "no_spectra_LAD_fig.savefig(f\"Scalar Power Mean MultiCPD Taxi Views (NYC TLC 2020, top {topn}, no spectra, windows={windows_suffix}).pdf\", bbox_inches='tight')\n",
    "\n",
    "# re-plot w/o anomalies labels\n",
    "LAD_fig, no_spectra_LAD_fig, transformed_context_matrix, PCA_fig = visualize(\n",
    "    context_matrix, \n",
    "    z_scores, \n",
    "    z_overall, \n",
    "    list(map(str, window_sizes)),\n",
    "    [d.strftime(\"%m-%d\") for d in dates],\n",
    "    [],\n",
    "    suptitle = \"\",\n",
    "    line_colours = None, \n",
    "    pca_analysis = False\n",
    ")\n",
    "\n",
    "LAD_fig.savefig(f\"Scalar Power Mean MultiCPD Taxi Views (NYC TLC 2020, no anomalies, spectra, windows={windows_suffix}).pdf\", bbox_inches='tight')\n",
    "no_spectra_LAD_fig.savefig(f\"Scalar Power Mean MultiCPD Taxi Views (NYC TLC 2020, no anomalies, no spectra, windows={windows_suffix}).pdf\", bbox_inches='tight')"
   ]
  },
  {
   "cell_type": "markdown",
   "metadata": {
    "hidden": true
   },
   "source": [
    "### FHV MultiCPD"
   ]
  },
  {
   "cell_type": "code",
   "execution_count": null,
   "metadata": {
    "hidden": true
   },
   "outputs": [],
   "source": [
    "context_matrix, z_overall, z_scores, anomalies = multiCPD(\n",
    "    viewwise_G_times[2:4], \n",
    "    window_sizes,\n",
    "    num_eigen = 499,\n",
    "    p = -10,\n",
    "    max_size = None,\n",
    "    add_diagonal_shift = True,\n",
    "    top = True,\n",
    "    principal = True,\n",
    "    difference = True,\n",
    "    percent_ranked = percent_ranked,\n",
    "    normalized_laplacian = normalized_laplacian,\n",
    "    weight = 'weight',\n",
    "    context_matrix_norm = 'l2',\n",
    "    multiview_agg_fn = scalar_power_mean\n",
    ")\n",
    "fhv_z_overall = z_overall"
   ]
  },
  {
   "cell_type": "code",
   "execution_count": null,
   "metadata": {
    "hidden": true
   },
   "outputs": [],
   "source": [
    "ntop = len(anomalies)\n",
    "LAD_fig, no_spectra_LAD_fig, transformed_context_matrix, PCA_fig = visualize(\n",
    "    context_matrix, \n",
    "    z_scores, \n",
    "    z_overall, \n",
    "    list(map(str, window_sizes)),\n",
    "    [d.strftime(\"%m-%d\") for d in dates],\n",
    "    anomalies,\n",
    "    suptitle = \"\", #f\"FHV MultiCPD (NYC TLC 2020), top 5%\\n\",\n",
    "    line_colours = None, \n",
    "    pca_analysis = False\n",
    ")\n",
    "LAD_fig.savefig(f\"Scalar Power Mean MultiCPD FHV Views (NYC TLC 2020, top {topn}, spectra, windows={windows_suffix}).pdf\", bbox_inches='tight')\n",
    "no_spectra_LAD_fig.savefig(f\"Scalar Power Mean MultiCPD FHV Views (NYC TLC 2020, top {topn}, no spectra, windows={windows_suffix}).pdf\", bbox_inches='tight')\n",
    "\n",
    "# re-plot w/o anomalies labels\n",
    "LAD_fig, no_spectra_LAD_fig, transformed_context_matrix, PCA_fig = visualize(\n",
    "    context_matrix, \n",
    "    z_scores, \n",
    "    z_overall, \n",
    "    list(map(str, window_sizes)),\n",
    "    [d.strftime(\"%m-%d\") for d in dates],\n",
    "    [],\n",
    "    suptitle = \"\",\n",
    "    line_colours = None, \n",
    "    pca_analysis = False\n",
    ")\n",
    "\n",
    "LAD_fig.savefig(f\"Scalar Power Mean MultiCPD FHV Views (NYC TLC 2020, no anomalies, spectra, windows={windows_suffix}).pdf\", bbox_inches='tight')\n",
    "no_spectra_LAD_fig.savefig(f\"Scalar Power Mean MultiCPD FHV Views (NYC TLC 2020, no anomalies, no spectra, windows={windows_suffix}).pdf\", bbox_inches='tight')"
   ]
  },
  {
   "cell_type": "markdown",
   "metadata": {
    "hidden": true
   },
   "source": [
    "### MultiCPD with Views 1,2,3"
   ]
  },
  {
   "cell_type": "code",
   "execution_count": null,
   "metadata": {
    "hidden": true
   },
   "outputs": [],
   "source": [
    "#%matplotlib notebook\n",
    "context_matrix, z_overall, z_scores, anomalies = multiCPD(\n",
    "    viewwise_G_times[0:3], \n",
    "    window_sizes,\n",
    "    num_eigen = 499,\n",
    "    p = -10,\n",
    "    max_size = None,\n",
    "    add_diagonal_shift = True,\n",
    "    top = True,\n",
    "    principal = True,\n",
    "    difference = True,\n",
    "    percent_ranked = percent_ranked,\n",
    "    normalized_laplacian = normalized_laplacian,\n",
    "    weight = 'weight',\n",
    "    context_matrix_norm = 'l2',\n",
    "    multiview_agg_fn = scalar_power_mean\n",
    ")\n",
    "views_123_z_overall = z_overall"
   ]
  },
  {
   "cell_type": "code",
   "execution_count": null,
   "metadata": {
    "hidden": true
   },
   "outputs": [],
   "source": [
    "ntop = len(anomalies)\n",
    "LAD_fig, no_spectra_LAD_fig, transformed_context_matrix, PCA_fig = visualize(\n",
    "    context_matrix, \n",
    "    z_scores, \n",
    "    z_overall, \n",
    "    list(map(str, window_sizes)),\n",
    "    [d.strftime(\"%m-%d\") for d in dates],\n",
    "    anomalies,\n",
    "    suptitle = \"\", #f\"MultiCPD w. views #1,2,3 (NYC TLC 2020), top 5%\\n\",\n",
    "    line_colours = None, \n",
    "    pca_analysis = False\n",
    ")\n",
    "LAD_fig.savefig(f\"Scalar Power Mean MultiCPD Views #1,2,3 (NYC TLC 2020, top {topn}, spectra, windows={windows_suffix}).pdf\", bbox_inches='tight')\n",
    "no_spectra_LAD_fig.savefig(f\"Scalar Power Mean MultiCPD Views #1,2,3 (NYC TLC 2020, top {topn}, no spectra, windows={windows_suffix}).pdf\", bbox_inches='tight')\n",
    "\n",
    "# re-plot w/o anomalies labels\n",
    "LAD_fig, no_spectra_LAD_fig, transformed_context_matrix, PCA_fig = visualize(\n",
    "    context_matrix, \n",
    "    z_scores, \n",
    "    z_overall, \n",
    "    list(map(str, window_sizes)),\n",
    "    [d.strftime(\"%m-%d\") for d in dates],\n",
    "    [],\n",
    "    suptitle = \"\",\n",
    "    line_colours = None, \n",
    "    pca_analysis = False\n",
    ")\n",
    "\n",
    "LAD_fig.savefig(f\"Scalar Power Mean MultiCPD Views #1,2,3 (NYC TLC 2020, no anomalies, spectra, windows={windows_suffix}).pdf\", bbox_inches='tight')\n",
    "no_spectra_LAD_fig.savefig(f\"Scalar Power Mean MultiCPD Views #1,2,3 (NYC TLC 2020, no anomalies, no spectra, windows={windows_suffix}).pdf\", bbox_inches='tight')"
   ]
  },
  {
   "cell_type": "markdown",
   "metadata": {
    "hidden": true
   },
   "source": [
    "### MultiCPD with Views 1,2,4"
   ]
  },
  {
   "cell_type": "code",
   "execution_count": null,
   "metadata": {
    "hidden": true
   },
   "outputs": [],
   "source": [
    "#%matplotlib notebook\n",
    "context_matrix, z_overall, z_scores, anomalies = multiCPD(\n",
    "    [viewwise_G_times[i] for i in [0,1,3]], \n",
    "    window_sizes,\n",
    "    num_eigen = 499,\n",
    "    p = -10,\n",
    "    max_size = None,\n",
    "    add_diagonal_shift = True,\n",
    "    top = True,\n",
    "    principal = True,\n",
    "    difference = True,\n",
    "    percent_ranked = percent_ranked,\n",
    "    normalized_laplacian = normalized_laplacian,\n",
    "    weight = 'weight',\n",
    "    context_matrix_norm = 'l2',\n",
    "    multiview_agg_fn = scalar_power_mean\n",
    ")\n",
    "views_124_z_overall = z_overall"
   ]
  },
  {
   "cell_type": "code",
   "execution_count": null,
   "metadata": {
    "hidden": true
   },
   "outputs": [],
   "source": [
    "ntop = len(anomalies)\n",
    "LAD_fig, no_spectra_LAD_fig, transformed_context_matrix, PCA_fig = visualize(\n",
    "    context_matrix, \n",
    "    z_scores, \n",
    "    z_overall, \n",
    "    list(map(str, window_sizes)),\n",
    "    [d.strftime(\"%m-%d\") for d in dates],\n",
    "    anomalies,\n",
    "    suptitle = \"\", #f\"MultiCPD w. views #1,2,4 (NYC TLC 2020), top 5%\\n\",\n",
    "    line_colours = None, \n",
    "    pca_analysis = False\n",
    ")\n",
    "LAD_fig.savefig(f\"Scalar Power Mean MultiCPD Views #1,2,4 (NYC TLC 2020, top {topn}, spectra, windows={windows_suffix}).pdf\", bbox_inches='tight')\n",
    "no_spectra_LAD_fig.savefig(f\"Scalar Power Mean MultiCPD Views #1,2,4 (NYC TLC 2020, top {topn}, no spectra, windows={windows_suffix}).pdf\", bbox_inches='tight')\n",
    "\n",
    "# re-plot w/o anomalies labels\n",
    "LAD_fig, no_spectra_LAD_fig, transformed_context_matrix, PCA_fig = visualize(\n",
    "    context_matrix, \n",
    "    z_scores, \n",
    "    z_overall, \n",
    "    list(map(str, window_sizes)),\n",
    "    [d.strftime(\"%m-%d\") for d in dates],\n",
    "    [],\n",
    "    suptitle = \"\",\n",
    "    line_colours = None, \n",
    "    pca_analysis = False\n",
    ")\n",
    "\n",
    "LAD_fig.savefig(f\"Scalar Power Mean MultiCPD Views #1,2,4 (NYC TLC 2020, no anomalies, spectra, windows={windows_suffix}).pdf\", bbox_inches='tight')\n",
    "no_spectra_LAD_fig.savefig(f\"Scalar Power Mean MultiCPD Views #1,2,4 (NYC TLC 2020, no anomalies, no spectra, windows={windows_suffix}).pdf\", bbox_inches='tight')"
   ]
  },
  {
   "cell_type": "markdown",
   "metadata": {
    "hidden": true
   },
   "source": [
    "### Supplementary plots"
   ]
  },
  {
   "cell_type": "markdown",
   "metadata": {
    "hidden": true
   },
   "source": [
    "%matplotlib inline\n",
    "from matplotlib.cbook import boxplot_stats\n",
    "z_scores_distribution = [ np.clip(result, a_min=0.0, a_max=None) \n",
    "                            for result in [\n",
    "                                scalar_power_mean_z_overall,\n",
    "                                mean_z_overall,\n",
    "                                max_z_overall,\n",
    "                                view_1_z_overall,\n",
    "                                view_2_z_overall,\n",
    "                                view_3_z_overall,\n",
    "                                view_4_z_overall,\n",
    "                                taxi_z_overall,\n",
    "                                fhv_z_overall,\n",
    "                                views_123_z_overall,\n",
    "                                views_124_z_overall\n",
    "                            ]\n",
    "]\n",
    "z_scores_distribution_maxnorm = [ series/(series.max()) for series in z_scores_distribution ]\n",
    "\n",
    "fig, ax = plt.subplots(figsize=(12,5))\n",
    "sns.set(font_scale = 2)\n",
    "sns.boxplot(ax=ax, data=z_scores_distribution_maxnorm)\n",
    "outlier_counts = [\n",
    "    sum([1 for stat in boxplot_stats(z_scores_distribution_maxnorm[series]) for y in stat['fliers']])\n",
    "    for series in range(len(z_scores_distribution_maxnorm))\n",
    "]\n",
    "print(outlier_counts)\n",
    "sns.swarmplot(ax=ax, data=z_scores_distribution_maxnorm, color=\".25\")\n",
    "plt.xticks(\n",
    "    list(range(0,11)), \n",
    "    [\n",
    "        \"Scalar Power Mean\",\n",
    "        \"NL meanLAD\", \n",
    "        \"NL maxLAD\",\n",
    "        \"NL LAD View #1\", \n",
    "        \"NL LAD View #2\", \n",
    "        \"NL LAD View #3\", \n",
    "        \"NL LAD View #4\",\n",
    "        \"Scalar Power Mean, views #1,2\",\n",
    "        \"Scalar Power Mean, views #3,4\",\n",
    "        \"Scalar Power Mean, views #1,2,3\",\n",
    "        \"Scalar Power Mean, views #1,2,4\"\n",
    "    ],\n",
    "    rotation=\"vertical\"\n",
    ")\n",
    "plt.ylabel(\"anomaly score\")\n",
    "plt.suptitle(\"Overall Z-Score Distributions\")\n",
    "plt.show()"
   ]
  },
  {
   "cell_type": "markdown",
   "metadata": {
    "heading_collapsed": true
   },
   "source": [
    "## Traffic Volume"
   ]
  },
  {
   "cell_type": "code",
   "execution_count": null,
   "metadata": {
    "hidden": true
   },
   "outputs": [],
   "source": [
    "views = ['green', 'yellow', 'fhv', 'fhvhv']\n",
    "colors = ['green', 'yellow', 'blue', 'purple']\n",
    "viewwise_daily_traffic_series = []\n",
    "for view in viewwise_G_times:\n",
    "    daily_traffic_volume = [ G.size(weight='weight') for G in view ]\n",
    "    viewwise_daily_traffic_series.append(daily_traffic_volume)\n",
    "\n",
    "fig, ax = plt.subplots()\n",
    "xs = np.arange(num_timepoints)\n",
    "for s, series in enumerate(viewwise_daily_traffic_series):\n",
    "    ax.plot(\n",
    "        xs,\n",
    "        series,\n",
    "        'k-',\n",
    "        label=views[s],\n",
    "        color=colors[s]\n",
    "    )\n",
    "plt.legend()\n",
    "ax.set_ylabel(\"Volume\")\n",
    "ax.set_xlabel(\"Day\")\n",
    "plt.xticks(\n",
    "    [tick_location for t, tick_location in enumerate(xs) if t%7 == 0], \n",
    "    [date.strftime(\"%m-%d\") for t, date in zip(xs, dates) if t%7 == 0]\n",
    ")\n",
    "fig.autofmt_xdate()\n",
    "plt.show()"
   ]
  },
  {
   "cell_type": "code",
   "execution_count": null,
   "metadata": {
    "hidden": true
   },
   "outputs": [],
   "source": []
  }
 ],
 "metadata": {
  "kernelspec": {
   "display_name": "Python 3",
   "language": "python",
   "name": "python3"
  },
  "language_info": {
   "codemirror_mode": {
    "name": "ipython",
    "version": 3
   },
   "file_extension": ".py",
   "mimetype": "text/x-python",
   "name": "python",
   "nbconvert_exporter": "python",
   "pygments_lexer": "ipython3",
   "version": "3.8.5"
  }
 },
 "nbformat": 4,
 "nbformat_minor": 4
}
