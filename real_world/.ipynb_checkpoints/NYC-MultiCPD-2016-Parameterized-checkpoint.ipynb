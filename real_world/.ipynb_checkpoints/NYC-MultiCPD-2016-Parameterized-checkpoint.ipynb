{
 "cells": [
  {
   "cell_type": "markdown",
   "metadata": {},
   "source": [
    "# MultiCPD NYC TLC 2016 Notebook"
   ]
  },
  {
   "cell_type": "markdown",
   "metadata": {},
   "source": [
    "### Import block"
   ]
  },
  {
   "cell_type": "code",
   "execution_count": null,
   "metadata": {},
   "outputs": [],
   "source": [
    "# standard library dependencies\n",
    "import warnings\n",
    "import datetime\n",
    "from pprint import pprint\n",
    "from typing import List, Callable, Tuple\n",
    "\n",
    "# external dependencies\n",
    "import numpy as np\n",
    "import pandas as pd\n",
    "import seaborn as sns\n",
    "import networkx as nx\n",
    "import matplotlib.pyplot as plt \n",
    "import matplotlib.dates as mdates\n",
    "\n",
    "# local dependencies\n",
    "from datasets.TLC_loader import load_2016_TLC\n",
    "from sc_multiCPD import multiCPD, plot_scores_and_spectra, PCA_context_matrix\n",
    "from multiCPD_multiview_aggregators import (\n",
    "    sum_,\n",
    "    mean_,\n",
    "    max_,\n",
    "    min_,\n",
    "    median_,\n",
    "    scalar_power_mean\n",
    ")\n",
    "\n",
    "%load_ext autoreload\n",
    "%autoreload 2"
   ]
  },
  {
   "cell_type": "markdown",
   "metadata": {},
   "source": [
    "### Convenience function definition"
   ]
  },
  {
   "cell_type": "code",
   "execution_count": null,
   "metadata": {},
   "outputs": [],
   "source": [
    "def visualize(context_matrix: np.ndarray, \n",
    "              z_scores: np.ndarray, \n",
    "              z_overall: np.ndarray, \n",
    "              line_labels: List[str],\n",
    "              x_axis_labels: List[str],\n",
    "              anomalous_timepoints: List[int],\n",
    "              suptitle: str = None,\n",
    "              line_colours: List[str] = None,\n",
    "              pca_analysis: bool = False,\n",
    "              plot_maxline: bool = False,\n",
    "              figsize: Tuple[int,int] = None,\n",
    "              show: bool = False):\n",
    "    \n",
    "    plt.rcParams['pdf.fonttype'] = 42\n",
    "    plt.rcParams['ps.fonttype'] = 42\n",
    "    plt.rcParams['font.family'] = 'serif'\n",
    "    plt.rcParams['axes.xmargin'] = 0\n",
    "    plt.rcParams.update({'figure.autolayout': True})\n",
    "    plt.rc('xtick')\n",
    "    plt.rc('ytick')\n",
    "    \n",
    "    if line_colours is None:\n",
    "        line_colours = ['red', 'blue', 'green', 'yellow', 'purple', 'black']\n",
    "    \n",
    "    if plot_maxline:\n",
    "        lines_array = np.clip(\n",
    "            np.vstack((z_scores, z_overall)),\n",
    "            a_min=0.0, \n",
    "            a_max=None\n",
    "        )\n",
    "    else:\n",
    "        lines_array = np.clip(\n",
    "            z_scores,\n",
    "            a_min=0.0, \n",
    "            a_max=None\n",
    "        )\n",
    "        \n",
    "    print(f\"lines_array.shape={lines_array.shape}\")\n",
    "    \n",
    "    LAD_fig, no_spectra_LAD_fig = plot_scores_and_spectra(\n",
    "        context_matrix, \n",
    "        lines_array,\n",
    "        labels = line_labels,\n",
    "        x_axis_labels = x_axis_labels,\n",
    "        colors = line_colours,\n",
    "        anomalous_timepoints = anomalous_timepoints,\n",
    "        title = suptitle,\n",
    "        figsize=figsize\n",
    "    )\n",
    "    \n",
    "    if pca_analysis:\n",
    "        transformed_context_matrix, PCA_fig = PCA_context_matrix(\n",
    "            context_matrix, \n",
    "            verbose=True, \n",
    "            plot=True, \n",
    "            point_labels=x_axis_labels\n",
    "        )\n",
    "        return LAD_fig, no_spectra_LAD_fig, transformed_context_matrix, PCA_fig\n",
    "    return LAD_fig, no_spectra_LAD_fig, None, None\n",
    "\n",
    "def visualize_max(zs: List[np.ndarray],\n",
    "                  dates:List,\n",
    "                  num_timepoints:int=92):\n",
    "    \n",
    "    plt.rcParams['pdf.fonttype'] = 42\n",
    "    plt.rcParams['ps.fonttype'] = 42\n",
    "    plt.rcParams['font.family'] = 'serif'\n",
    "    plt.rcParams['axes.xmargin'] = 0\n",
    "    plt.rcParams.update({'figure.autolayout': True})\n",
    "    plt.rc('xtick')\n",
    "    plt.rc('ytick')\n",
    "    \n",
    "    fig, ax = plt.subplots(nrows=3, ncols=1, figsize=(10,3), sharex=True, sharey=True)\n",
    "    xs = np.arange(num_timepoints)\n",
    "    x_ticks = [ x for x in xs if x%7 == 0 ]\n",
    "    x_labels = [ d.strftime(\"%m-%d\") for d, t in zip(dates, xs) if t % 7 == 0 ]\n",
    "    for i in range(len(zs)):\n",
    "        ax[i].plot(\n",
    "            xs,\n",
    "            np.clip(zs[i], a_min=0.0, a_max=None),\n",
    "            'k-'\n",
    "        )\n",
    "    plt.xticks(x_ticks, x_labels)\n",
    "    fig.autofmt_xdate()\n",
    "    plt.xlabel(\"date\")\n",
    "    fig.text(0.0, 0.5, 'anomaly score', va='center', rotation='vertical')\n",
    "    return fig"
   ]
  },
  {
   "cell_type": "markdown",
   "metadata": {},
   "source": [
    "### Parameter block"
   ]
  },
  {
   "cell_type": "code",
   "execution_count": null,
   "metadata": {},
   "outputs": [],
   "source": [
    "window_sizes = [3,7]\n",
    "windows_suffix = \",\".join(list(map(str, window_sizes)))\n",
    "percent_ranked = 0.08\n",
    "normalized_laplacian = True\n",
    "# add file paths below\n",
    "file_paths = [\n",
    "\n",
    "]"
   ]
  },
  {
   "cell_type": "markdown",
   "metadata": {},
   "source": [
    "## Load the NYC TLC 2016 dataset (excluding Feb. 1st 2016)"
   ]
  },
  {
   "cell_type": "code",
   "execution_count": null,
   "metadata": {},
   "outputs": [],
   "source": [
    "num_timepoints = 92\n",
    "viewwise_G_times = load_2016_TLC(\n",
    "    file_paths,\n",
    "    keep_feb_1st=False\n",
    ")\n",
    "dates = [datetime.date(month=11, year=2015, day=1) + datetime.timedelta(days=x) for x in range(num_timepoints)]"
   ]
  },
  {
   "cell_type": "markdown",
   "metadata": {},
   "source": [
    "## Multi-LAD Experiments"
   ]
  },
  {
   "cell_type": "markdown",
   "metadata": {},
   "source": [
    "### Running Multi-LAD with all views using the scalar power mean"
   ]
  },
  {
   "cell_type": "code",
   "execution_count": null,
   "metadata": {
    "scrolled": true
   },
   "outputs": [],
   "source": [
    "context_matrix, z_overall, z_scores, anomalies = multiCPD(\n",
    "    viewwise_G_times, \n",
    "    window_sizes,\n",
    "    num_eigen = 499,\n",
    "    p = -10,\n",
    "    max_size = None,\n",
    "    add_diagonal_shift = True,\n",
    "    top = True,\n",
    "    principal = True,\n",
    "    difference = True,\n",
    "    percent_ranked = percent_ranked,\n",
    "    normalized_laplacian = normalized_laplacian,\n",
    "    weight = 'weight',\n",
    "    multiview_agg_fn = scalar_power_mean,\n",
    "    context_matrix_norm = 'l2'\n",
    ")\n",
    "scalar_power_mean_z_overall = z_overall"
   ]
  },
  {
   "cell_type": "code",
   "execution_count": null,
   "metadata": {},
   "outputs": [],
   "source": [
    "LAD_fig, no_spectra_LAD_fig, transformed_context_matrix, PCA_fig = visualize(\n",
    "    context_matrix, \n",
    "    z_overall.reshape((1,-1)), \n",
    "    z_overall.reshape((1,-1)), \n",
    "    [''],#list(map(str, window_sizes)),\n",
    "    [d.strftime(\"%m-%d\") for d in dates],\n",
    "    anomalies,\n",
    "    suptitle = \"\",\n",
    "    line_colours = None, \n",
    "    pca_analysis = True,\n",
    "    figsize = (10,8)\n",
    ")\n",
    "topn = len(anomalies)\n",
    "print(anomalies)\n",
    "LAD_fig.savefig(f\"Scalar Power Mean Multi-LAD (NYC TLC 2016, top {topn}, spectra, windows={windows_suffix}).pdf\", bbox_inches='tight')\n",
    "\n",
    "LAD_fig, no_spectra_LAD_fig, transformed_context_matrix, PCA_fig = visualize(\n",
    "    context_matrix, \n",
    "    z_scores, \n",
    "    z_overall, \n",
    "    list(map(str, window_sizes)),\n",
    "    [d.strftime(\"%m-%d\") for d in dates],\n",
    "    [],\n",
    "    suptitle = \"\",\n",
    "    line_colours = None, \n",
    "    pca_analysis = True,\n",
    "    figsize = (10,3)\n",
    ")\n"
   ]
  },
  {
   "cell_type": "markdown",
   "metadata": {},
   "source": [
    "%matplotlib inline\n",
    "weekday_overall_z_scores_distribution = []\n",
    "for offset in range(7):\n",
    "    weekday_overall_z_scores_distribution.append(\n",
    "        np.clip(\n",
    "            z_overall[offset::7],\n",
    "            a_min=0.0,\n",
    "            a_max=None\n",
    "        ).tolist()\n",
    "    )\n",
    "\n",
    "\n",
    "#df.columns = [\"Wed.\", \"Thu.\", \"Fri.\", \"Sat.\", \"Sun.\", \"Mon.\", \"Tue.\"]\n",
    "fig, ax = plt.subplots(figsize=(9,5))\n",
    "sns.set(font_scale = 2)\n",
    "sns.boxplot(ax=ax, data=weekday_overall_z_scores_distribution)\n",
    "sns.swarmplot(ax=ax, data=weekday_overall_z_scores_distribution, color=\".25\")\n",
    "plt.xticks(list(range(0,7)), [\"Sun.\", \"Mon.\", \"Tue.\", \"Wed.\", \"Thu.\", \"Fri.\", \"Sat.\"])\n",
    "plt.ylabel(\"anomaly score\")\n",
    "plt.suptitle(\"Scalar Power Mean Multi-LAD (NYC TLC 2016)\\nDaily Max. Score Distributions (w=7,14)\")\n",
    "plt.show()\n",
    "fig.savefig(\"Scalar Power Mean Multi-LAD (NYC TLC 2016) Daily Max. Score Distributions (w=7,14).pdf\", bbox_inches='tight')"
   ]
  },
  {
   "cell_type": "markdown",
   "metadata": {},
   "source": [
    "GMM_analysis(transformed_context_matrix, dates)"
   ]
  },
  {
   "cell_type": "markdown",
   "metadata": {},
   "source": [
    "### Running Multi-LAD on all views using the mean and max aggregation baselines"
   ]
  },
  {
   "cell_type": "code",
   "execution_count": null,
   "metadata": {},
   "outputs": [],
   "source": [
    "viewwise_z_overall = []\n",
    "for i in range(2):\n",
    "    context_matrix, z_overall, z_scores, anomalies = multiCPD(\n",
    "        [viewwise_G_times[i]], \n",
    "        window_sizes,\n",
    "        num_eigen = 499,\n",
    "        p = -10,\n",
    "        max_size = None,\n",
    "        add_diagonal_shift = True,\n",
    "        top = True,\n",
    "        principal = True,\n",
    "        difference = True,\n",
    "        percent_ranked = percent_ranked,\n",
    "        normalized_laplacian = normalized_laplacian,\n",
    "        weight = 'weight',\n",
    "        context_matrix_norm = 'l2'\n",
    "    )\n",
    "    viewwise_z_overall.append(z_overall)\n",
    "\n",
    "viewwise_z_overall = np.array(viewwise_z_overall)\n",
    "assert viewwise_z_overall.ndim == 2\n",
    "print(viewwise_z_overall.shape)\n",
    "\n",
    "mean_z_overall = viewwise_z_overall.mean(axis=0)\n",
    "mean_anomalies = mean_z_overall.argsort()[-round(num_timepoints * percent_ranked):][::-1]\n",
    "mean_anomalies.sort()\n",
    "\n",
    "max_z_overall = viewwise_z_overall.max(axis=0)\n",
    "max_anomalies = max_z_overall.argsort()[-round(num_timepoints * percent_ranked):][::-1]\n",
    "max_anomalies.sort()\n",
    "\n",
    "print([dates[i].strftime(\"%m-%d\") for i in mean_anomalies])\n",
    "print([dates[i].strftime(\"%m-%d\") for i in max_anomalies])"
   ]
  },
  {
   "cell_type": "code",
   "execution_count": null,
   "metadata": {},
   "outputs": [],
   "source": [
    "scalar_power_mean_z_overall.max(), mean_z_overall.max(), max_z_overall.max()\n",
    "max_norm_scalar_power_mean_z_overall = scalar_power_mean_z_overall / scalar_power_mean_z_overall.max()\n",
    "max_norm_mean_z_overall = mean_z_overall / mean_z_overall.max()\n",
    "max_norm_max_z_overall = max_z_overall / max_z_overall.max()\n",
    "\n",
    "LAD_fig, no_spectra_LAD_fig, transformed_context_matrix, PCA_fig = visualize(\n",
    "    context_matrix, # dummy\n",
    "    np.vstack((\n",
    "        max_norm_mean_z_overall,\n",
    "        max_norm_max_z_overall,\n",
    "        max_norm_scalar_power_mean_z_overall\n",
    "    )),\n",
    "    max_norm_scalar_power_mean_z_overall,\n",
    "    [\"NL meanLAD Baseline\", \"NL maxLAD Baseline\", \"Scalar Power Mean\"],\n",
    "    [d.strftime(\"%m-%d\") for d in dates],\n",
    "    np.zeros((0,0)),\n",
    "    line_colours = None, \n",
    "    pca_analysis = False\n",
    ")\n",
    "LAD_fig.axes[0].set_yticklabels(np.round(np.arange(-0.2, 1.2, 0.2), 2))\n",
    "LAD_fig.axes[0].set(ylabel = \"normalized anomaly score\")\n",
    "LAD_fig.savefig(f\"Scalar Power Mean multiCPD versus NL meanLAD and maxLAD Baselines (NYC TLC 2016, w={windows_suffix}).pdf\", bbox_inches='tight')\n",
    "\n",
    "\n",
    "no_spectra_LAD_fig.axes[0].set_yticklabels(np.round(np.arange(-0.2, 1.2, 0.2), 2))\n",
    "no_spectra_LAD_fig.axes[0].set(ylabel = \"normalized anomaly score\")\n",
    "no_spectra_LAD_fig.savefig(f\"Scalar Power Mean multiCPD versus NL meanLAD and maxLAD Baselines (NYC TLC 2016, no spectra, w={windows_suffix}).pdf\", bbox_inches='tight')"
   ]
  },
  {
   "cell_type": "code",
   "execution_count": null,
   "metadata": {},
   "outputs": [],
   "source": [
    "LAD_fig, no_spectra_LAD_fig, transformed_context_matrix, PCA_fig = visualize(\n",
    "    context_matrix, # dummy\n",
    "    max_z_overall.reshape((1,-1)), \n",
    "    max_z_overall.reshape((1,-1)), \n",
    "    [\"NL maxLAD Baseline\"],\n",
    "    [d.strftime(\"%m-%d\") for d in dates],\n",
    "    max_anomalies,\n",
    "    line_colours = None, \n",
    "    pca_analysis = True\n",
    ")\n"
   ]
  },
  {
   "cell_type": "code",
   "execution_count": null,
   "metadata": {},
   "outputs": [],
   "source": [
    "LAD_fig, no_spectra_LAD_fig, transformed_context_matrix, PCA_fig = visualize(\n",
    "    context_matrix, # dummy\n",
    "    mean_z_overall.reshape((1,-1)), \n",
    "    mean_z_overall.reshape((1,-1)), \n",
    "    [\"NL meanLAD Baseline\"],\n",
    "    [d.strftime(\"%m-%d\") for d in dates],\n",
    "    max_anomalies,\n",
    "    line_colours = None, \n",
    "    pca_analysis = True\n",
    ")\n"
   ]
  },
  {
   "cell_type": "markdown",
   "metadata": {},
   "source": [
    "## Single-view Experiments"
   ]
  },
  {
   "cell_type": "code",
   "execution_count": null,
   "metadata": {},
   "outputs": [],
   "source": [
    "normalized_laplacian = True"
   ]
  },
  {
   "cell_type": "markdown",
   "metadata": {},
   "source": [
    "### View 1"
   ]
  },
  {
   "cell_type": "code",
   "execution_count": null,
   "metadata": {},
   "outputs": [],
   "source": [
    "context_matrix, z_overall, z_scores, anomalies = multiCPD(\n",
    "    [viewwise_G_times[0]], \n",
    "    window_sizes,\n",
    "    num_eigen = 499,\n",
    "    p = -10,\n",
    "    max_size = None,\n",
    "    add_diagonal_shift = True,\n",
    "    top = True,\n",
    "    principal = True,\n",
    "    difference = True,\n",
    "    percent_ranked = percent_ranked,\n",
    "    normalized_laplacian = normalized_laplacian,\n",
    "    weight = 'weight',\n",
    "    context_matrix_norm = 'l2'\n",
    ")\n",
    "view_1_z_overall = z_overall"
   ]
  },
  {
   "cell_type": "code",
   "execution_count": null,
   "metadata": {},
   "outputs": [],
   "source": [
    "LAD_fig, no_spectra_LAD_fig, transformed_context_matrix, PCA_fig = visualize(\n",
    "    context_matrix, \n",
    "    z_scores, \n",
    "    z_overall, \n",
    "    list(map(str, window_sizes)),\n",
    "    [d.strftime(\"%m-%d\") for d in dates],\n",
    "    anomalies,\n",
    "    line_colours = None, \n",
    "    pca_analysis = True,\n",
    "    figsize = (10,2)\n",
    ")\n",
    "topn = len(anomalies)\n",
    "\n",
    "LAD_fig, no_spectra_LAD_fig, transformed_context_matrix, PCA_fig = visualize(\n",
    "    context_matrix, \n",
    "    z_scores, \n",
    "    z_overall, \n",
    "    list(map(str, window_sizes)),\n",
    "    [d.strftime(\"%m-%d\") for d in dates],\n",
    "    [],\n",
    "    suptitle = \"\",\n",
    "    line_colours = None, \n",
    "    pca_analysis = True\n",
    ")\n"
   ]
  },
  {
   "cell_type": "markdown",
   "metadata": {},
   "source": [
    "### View 2"
   ]
  },
  {
   "cell_type": "code",
   "execution_count": null,
   "metadata": {},
   "outputs": [],
   "source": [
    "context_matrix, z_overall, z_scores, anomalies = multiCPD(\n",
    "    [viewwise_G_times[1]], \n",
    "    window_sizes,\n",
    "    num_eigen = 499,\n",
    "    p = -10,\n",
    "    max_size = None,\n",
    "    add_diagonal_shift = True,\n",
    "    top = True,\n",
    "    principal = True,\n",
    "    difference = True,\n",
    "    percent_ranked = percent_ranked,\n",
    "    normalized_laplacian = normalized_laplacian,\n",
    "    weight = 'weight',\n",
    "    context_matrix_norm = 'l2'\n",
    ")\n",
    "view_2_z_overall = z_overall"
   ]
  },
  {
   "cell_type": "code",
   "execution_count": null,
   "metadata": {},
   "outputs": [],
   "source": [
    "LAD_fig, no_spectra_LAD_fig, transformed_context_matrix, PCA_fig = visualize(\n",
    "    context_matrix, \n",
    "    z_scores, \n",
    "    z_overall, \n",
    "    list(map(str, window_sizes)),\n",
    "    [d.strftime(\"%m-%d\") for d in dates],\n",
    "    anomalies,\n",
    "    line_colours = None, \n",
    "    pca_analysis = True,\n",
    "    figsize = (10,2)\n",
    ")\n",
    "topn = len(anomalies)\n",
    "\n",
    "LAD_fig, no_spectra_LAD_fig, transformed_context_matrix, PCA_fig = visualize(\n",
    "    context_matrix, \n",
    "    z_scores, \n",
    "    z_overall, \n",
    "    list(map(str, window_sizes)),\n",
    "    [d.strftime(\"%m-%d\") for d in dates],\n",
    "    [],\n",
    "    suptitle = \"\",\n",
    "    line_colours = None, \n",
    "    pca_analysis = True\n",
    ")\n"
   ]
  },
  {
   "cell_type": "code",
   "execution_count": null,
   "metadata": {},
   "outputs": [],
   "source": []
  },
  {
   "cell_type": "code",
   "execution_count": null,
   "metadata": {},
   "outputs": [],
   "source": [
    "f = visualize_max(\n",
    "    [\n",
    "        scalar_power_mean_z_overall,\n",
    "        view_1_z_overall,\n",
    "        view_2_z_overall\n",
    "    ], \n",
    "    dates\n",
    ")\n"
   ]
  },
  {
   "cell_type": "code",
   "execution_count": null,
   "metadata": {},
   "outputs": [],
   "source": [
    "f = visualize_max(\n",
    "    [\n",
    "        scalar_power_mean_z_overall/(scalar_power_mean_z_overall.max()),\n",
    "        view_1_z_overall/(view_1_z_overall.max()),\n",
    "        view_2_z_overall/(view_2_z_overall.max())\n",
    "    ], \n",
    "    dates\n",
    ")\n"
   ]
  }
 ],
 "metadata": {
  "kernelspec": {
   "display_name": "Python 3",
   "language": "python",
   "name": "python3"
  },
  "language_info": {
   "codemirror_mode": {
    "name": "ipython",
    "version": 3
   },
   "file_extension": ".py",
   "mimetype": "text/x-python",
   "name": "python",
   "nbconvert_exporter": "python",
   "pygments_lexer": "ipython3",
   "version": "3.8.5"
  }
 },
 "nbformat": 4,
 "nbformat_minor": 4
}
